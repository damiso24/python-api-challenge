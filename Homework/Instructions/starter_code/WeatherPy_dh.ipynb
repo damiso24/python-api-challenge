{
 "cells": [
  {
   "cell_type": "markdown",
   "metadata": {},
   "source": [
    "## Damiso and Jamie version\n"
   ]
  },
  {
   "cell_type": "markdown",
   "metadata": {},
   "source": [
    "# WeatherPy\n",
    "----\n",
    "\n",
    "#### Note\n",
    "* Instructions have been included for each segment. You do not have to follow them exactly, but they are included to help you think through the steps."
   ]
  },
  {
   "cell_type": "code",
   "execution_count": 1,
   "metadata": {},
   "outputs": [],
   "source": [
    "%matplotlib inline\n",
    "%config Completer.use_jedi = False\n"
   ]
  },
  {
   "cell_type": "code",
   "execution_count": 2,
   "metadata": {
    "scrolled": true
   },
   "outputs": [],
   "source": [
    "# Dependencies and Setup\n",
    "import matplotlib.pyplot as plt\n",
    "import pandas as pd\n",
    "import numpy as np\n",
    "import requests\n",
    "import time\n",
    "from scipy.stats import linregress\n",
    "import json\n",
    "\n",
    "\n"
   ]
  },
  {
   "cell_type": "code",
   "execution_count": 3,
   "metadata": {},
   "outputs": [],
   "source": [
    "# Incorporated citipy to determine city based on latitude and longitude\n",
    "from citipy import citipy\n",
    "\n",
    "# Output File (CSV)\n",
    "output_data_file = \"output_data/cities.csv\"\n",
    "\n",
    "# Range of latitudes and longitudes\n",
    "lat_range = (-90, 90)\n",
    "lng_range = (-180, 180)"
   ]
  },
  {
   "cell_type": "code",
   "execution_count": 4,
   "metadata": {},
   "outputs": [],
   "source": [
    "# Import API key\n",
    "from api_keys import damiso"
   ]
  },
  {
   "cell_type": "markdown",
   "metadata": {},
   "source": [
    "## Generate Cities List"
   ]
  },
  {
   "cell_type": "code",
   "execution_count": 5,
   "metadata": {},
   "outputs": [
    {
     "data": {
      "text/plain": [
       "5"
      ]
     },
     "execution_count": 5,
     "metadata": {},
     "output_type": "execute_result"
    }
   ],
   "source": [
    "# List for holding lat_lngs and cities\n",
    "lat_lngs = []\n",
    "cities = []\n",
    "\n",
    "# creating sample size for testing\n",
    "sample_size = 5\n",
    "\n",
    "# Create a set of random lat and lng combinations\n",
    "lats = np.random.uniform(lat_range[0], lat_range[1], size=sample_size)\n",
    "lngs = np.random.uniform(lng_range[0], lng_range[1], size=sample_size)\n",
    "lat_lngs = zip(lats, lngs)\n",
    "\n",
    "# Identify nearest city for each lat, lng combination\n",
    "for lat_lng in lat_lngs:\n",
    "    city = citipy.nearest_city(lat_lng[0], lat_lng[1]).city_name\n",
    "    \n",
    "    # If the city is unique, then add it to a our cities list\n",
    "    if city not in cities:\n",
    "        cities.append(city)\n",
    "\n",
    "# Print the city count to confirm sufficient count\n",
    "len(cities)\n"
   ]
  },
  {
   "cell_type": "code",
   "execution_count": 6,
   "metadata": {},
   "outputs": [
    {
     "name": "stdout",
     "output_type": "stream",
     "text": [
      "['camana', 'sarrebourg', 'tuktoyaktuk', 'grand gaube', 'katsuura']\n"
     ]
    }
   ],
   "source": [
    "print(cities)"
   ]
  },
  {
   "cell_type": "markdown",
   "metadata": {},
   "source": [
    "### Perform API Calls\n",
    "* Perform a weather check on each city using a series of successive API calls.\n",
    "* Include a print log of each city as it'sbeing processed (with the city number and city name).\n"
   ]
  },
  {
   "cell_type": "code",
   "execution_count": 7,
   "metadata": {},
   "outputs": [],
   "source": [
    "# url does not have the city\n",
    "url = f\"http://api.openweathermap.org/data/2.5/weather?&units=imperial&APPID={damiso}&q=\"\n"
   ]
  },
  {
   "cell_type": "code",
   "execution_count": 8,
   "metadata": {},
   "outputs": [],
   "source": [
    "# Delete later...this is a test\n",
    "# test_url = url + \"richmond\"\n",
    "# test_url"
   ]
  },
  {
   "cell_type": "code",
   "execution_count": 9,
   "metadata": {},
   "outputs": [
    {
     "name": "stdout",
     "output_type": "stream",
     "text": [
      "Getting request 1 for camana\n",
      "Getting request 2 for sarrebourg\n",
      "Getting request 3 for tuktoyaktuk\n",
      "Getting request 4 for grand gaube\n",
      "Getting request 5 for katsuura\n",
      "Reached the end of city list\n"
     ]
    }
   ],
   "source": [
    "# set up lists to hold reponse info\n",
    "city_list = []\n",
    "city_counter = 1\n",
    "\n",
    "# Loop through the list of cities and perform a request for data on each\n",
    "for city in cities:\n",
    "    print(f'Getting request {city_counter} for {city}')\n",
    "    try:\n",
    "        \n",
    "        response = requests.get(url + city).json()\n",
    "        # print(response)\n",
    "\n",
    "        # getting latitude\n",
    "        city_lat = response['coord']['lat']\n",
    "\n",
    "        #getting longitude\n",
    "        city_long = response['coord']['lon']\n",
    "\n",
    "        #getting temp. max\n",
    "        city_temp_max = response['main']['temp_max']\n",
    "\n",
    "        #getting city humidity\n",
    "        city_humidity = response['main']['humidity']\n",
    "\n",
    "        #getting city\n",
    "        city_cloudiness = response['clouds']['all']\n",
    "\n",
    "        #getting city windspeed\n",
    "        city_windspeed = response ['wind']['speed']\n",
    "\n",
    "        #getting description\n",
    "        description_test = response ['weather'][0]['description']\n",
    "\n",
    "\n",
    "\n",
    "        # create dictionary of city data\n",
    "        city_list.append({\n",
    "            \"City\": city,\n",
    "            \"Lat\": city_lat,\n",
    "            \"Long\": city_long,\n",
    "            \"Temp. Max\": city_temp_max,\n",
    "            \"Humidity\": city_humidity,\n",
    "            \"Cloudiness\": city_cloudiness,\n",
    "            \"Windspeed\": city_windspeed,\n",
    "            \"description\": description_test\n",
    "        })\n",
    "        city_counter += 1\n",
    "    except:\n",
    "        print(\"city not found\")\n",
    "        city_counter += 1\n",
    "        \n",
    "print(\"Reached the end of city list\")        "
   ]
  },
  {
   "cell_type": "markdown",
   "metadata": {},
   "source": [
    "### Convert Raw Data to DataFrame\n",
    "* Export the city data into a .csv.\n",
    "* Display the DataFrame"
   ]
  },
  {
   "cell_type": "code",
   "execution_count": 10,
   "metadata": {},
   "outputs": [
    {
     "data": {
      "text/html": [
       "<div>\n",
       "<style scoped>\n",
       "    .dataframe tbody tr th:only-of-type {\n",
       "        vertical-align: middle;\n",
       "    }\n",
       "\n",
       "    .dataframe tbody tr th {\n",
       "        vertical-align: top;\n",
       "    }\n",
       "\n",
       "    .dataframe thead th {\n",
       "        text-align: right;\n",
       "    }\n",
       "</style>\n",
       "<table border=\"1\" class=\"dataframe\">\n",
       "  <thead>\n",
       "    <tr style=\"text-align: right;\">\n",
       "      <th></th>\n",
       "      <th>City</th>\n",
       "      <th>Lat</th>\n",
       "      <th>Long</th>\n",
       "      <th>Temp. Max</th>\n",
       "      <th>Humidity</th>\n",
       "      <th>Cloudiness</th>\n",
       "      <th>Windspeed</th>\n",
       "      <th>description</th>\n",
       "    </tr>\n",
       "  </thead>\n",
       "  <tbody>\n",
       "    <tr>\n",
       "      <th>0</th>\n",
       "      <td>camana</td>\n",
       "      <td>-16.6228</td>\n",
       "      <td>-72.7111</td>\n",
       "      <td>65.79</td>\n",
       "      <td>87</td>\n",
       "      <td>58</td>\n",
       "      <td>6.02</td>\n",
       "      <td>broken clouds</td>\n",
       "    </tr>\n",
       "    <tr>\n",
       "      <th>1</th>\n",
       "      <td>sarrebourg</td>\n",
       "      <td>48.7333</td>\n",
       "      <td>7.0500</td>\n",
       "      <td>48.00</td>\n",
       "      <td>81</td>\n",
       "      <td>0</td>\n",
       "      <td>4.61</td>\n",
       "      <td>clear sky</td>\n",
       "    </tr>\n",
       "    <tr>\n",
       "      <th>2</th>\n",
       "      <td>tuktoyaktuk</td>\n",
       "      <td>69.4541</td>\n",
       "      <td>-133.0374</td>\n",
       "      <td>24.84</td>\n",
       "      <td>80</td>\n",
       "      <td>100</td>\n",
       "      <td>3.27</td>\n",
       "      <td>overcast clouds</td>\n",
       "    </tr>\n",
       "    <tr>\n",
       "      <th>3</th>\n",
       "      <td>grand gaube</td>\n",
       "      <td>-20.0064</td>\n",
       "      <td>57.6608</td>\n",
       "      <td>82.99</td>\n",
       "      <td>79</td>\n",
       "      <td>19</td>\n",
       "      <td>7.00</td>\n",
       "      <td>few clouds</td>\n",
       "    </tr>\n",
       "    <tr>\n",
       "      <th>4</th>\n",
       "      <td>katsuura</td>\n",
       "      <td>35.1333</td>\n",
       "      <td>140.3000</td>\n",
       "      <td>70.00</td>\n",
       "      <td>78</td>\n",
       "      <td>62</td>\n",
       "      <td>15.99</td>\n",
       "      <td>broken clouds</td>\n",
       "    </tr>\n",
       "  </tbody>\n",
       "</table>\n",
       "</div>"
      ],
      "text/plain": [
       "          City      Lat      Long  Temp. Max  Humidity  Cloudiness  Windspeed  \\\n",
       "0       camana -16.6228  -72.7111      65.79        87          58       6.02   \n",
       "1   sarrebourg  48.7333    7.0500      48.00        81           0       4.61   \n",
       "2  tuktoyaktuk  69.4541 -133.0374      24.84        80         100       3.27   \n",
       "3  grand gaube -20.0064   57.6608      82.99        79          19       7.00   \n",
       "4     katsuura  35.1333  140.3000      70.00        78          62      15.99   \n",
       "\n",
       "       description  \n",
       "0    broken clouds  \n",
       "1        clear sky  \n",
       "2  overcast clouds  \n",
       "3       few clouds  \n",
       "4    broken clouds  "
      ]
     },
     "execution_count": 10,
     "metadata": {},
     "output_type": "execute_result"
    }
   ],
   "source": [
    "# creating a data frame\n",
    "city_data_df = pd.DataFrame(city_list)\n",
    "city_data_df"
   ]
  },
  {
   "cell_type": "code",
   "execution_count": 11,
   "metadata": {},
   "outputs": [],
   "source": [
    "# test\n",
    "# city_data_df.loc[2,\"Humidity\"] = 105\n",
    "# city_data_df"
   ]
  },
  {
   "cell_type": "code",
   "execution_count": null,
   "metadata": {},
   "outputs": [],
   "source": []
  },
  {
   "cell_type": "markdown",
   "metadata": {},
   "source": [
    "## Inspect the data and remove the cities where the humidity > 100%.\n",
    "----\n",
    "Skip this step if there are no cities that have humidity > 100%. "
   ]
  },
  {
   "cell_type": "code",
   "execution_count": 12,
   "metadata": {},
   "outputs": [
    {
     "data": {
      "text/plain": [
       "0    False\n",
       "1    False\n",
       "2    False\n",
       "3    False\n",
       "4    False\n",
       "Name: Humidity, dtype: bool"
      ]
     },
     "execution_count": 12,
     "metadata": {},
     "output_type": "execute_result"
    }
   ],
   "source": [
    "city_data_df['Humidity'] > 100"
   ]
  },
  {
   "cell_type": "code",
   "execution_count": 13,
   "metadata": {},
   "outputs": [],
   "source": [
    "#  Get the indices of cities that have humidity over 100%.\n",
    "\n",
    "cities_over_100 = city_data_df[(city_data_df['Humidity'] > 100)].index"
   ]
  },
  {
   "cell_type": "code",
   "execution_count": 14,
   "metadata": {},
   "outputs": [
    {
     "data": {
      "text/html": [
       "<div>\n",
       "<style scoped>\n",
       "    .dataframe tbody tr th:only-of-type {\n",
       "        vertical-align: middle;\n",
       "    }\n",
       "\n",
       "    .dataframe tbody tr th {\n",
       "        vertical-align: top;\n",
       "    }\n",
       "\n",
       "    .dataframe thead th {\n",
       "        text-align: right;\n",
       "    }\n",
       "</style>\n",
       "<table border=\"1\" class=\"dataframe\">\n",
       "  <thead>\n",
       "    <tr style=\"text-align: right;\">\n",
       "      <th></th>\n",
       "      <th>City</th>\n",
       "      <th>Lat</th>\n",
       "      <th>Long</th>\n",
       "      <th>Temp. Max</th>\n",
       "      <th>Humidity</th>\n",
       "      <th>Cloudiness</th>\n",
       "      <th>Windspeed</th>\n",
       "      <th>description</th>\n",
       "    </tr>\n",
       "  </thead>\n",
       "  <tbody>\n",
       "    <tr>\n",
       "      <th>0</th>\n",
       "      <td>camana</td>\n",
       "      <td>-16.6228</td>\n",
       "      <td>-72.7111</td>\n",
       "      <td>65.79</td>\n",
       "      <td>87</td>\n",
       "      <td>58</td>\n",
       "      <td>6.02</td>\n",
       "      <td>broken clouds</td>\n",
       "    </tr>\n",
       "    <tr>\n",
       "      <th>1</th>\n",
       "      <td>sarrebourg</td>\n",
       "      <td>48.7333</td>\n",
       "      <td>7.0500</td>\n",
       "      <td>48.00</td>\n",
       "      <td>81</td>\n",
       "      <td>0</td>\n",
       "      <td>4.61</td>\n",
       "      <td>clear sky</td>\n",
       "    </tr>\n",
       "    <tr>\n",
       "      <th>2</th>\n",
       "      <td>tuktoyaktuk</td>\n",
       "      <td>69.4541</td>\n",
       "      <td>-133.0374</td>\n",
       "      <td>24.84</td>\n",
       "      <td>80</td>\n",
       "      <td>100</td>\n",
       "      <td>3.27</td>\n",
       "      <td>overcast clouds</td>\n",
       "    </tr>\n",
       "    <tr>\n",
       "      <th>3</th>\n",
       "      <td>grand gaube</td>\n",
       "      <td>-20.0064</td>\n",
       "      <td>57.6608</td>\n",
       "      <td>82.99</td>\n",
       "      <td>79</td>\n",
       "      <td>19</td>\n",
       "      <td>7.00</td>\n",
       "      <td>few clouds</td>\n",
       "    </tr>\n",
       "    <tr>\n",
       "      <th>4</th>\n",
       "      <td>katsuura</td>\n",
       "      <td>35.1333</td>\n",
       "      <td>140.3000</td>\n",
       "      <td>70.00</td>\n",
       "      <td>78</td>\n",
       "      <td>62</td>\n",
       "      <td>15.99</td>\n",
       "      <td>broken clouds</td>\n",
       "    </tr>\n",
       "  </tbody>\n",
       "</table>\n",
       "</div>"
      ],
      "text/plain": [
       "          City      Lat      Long  Temp. Max  Humidity  Cloudiness  Windspeed  \\\n",
       "0       camana -16.6228  -72.7111      65.79        87          58       6.02   \n",
       "1   sarrebourg  48.7333    7.0500      48.00        81           0       4.61   \n",
       "2  tuktoyaktuk  69.4541 -133.0374      24.84        80         100       3.27   \n",
       "3  grand gaube -20.0064   57.6608      82.99        79          19       7.00   \n",
       "4     katsuura  35.1333  140.3000      70.00        78          62      15.99   \n",
       "\n",
       "       description  \n",
       "0    broken clouds  \n",
       "1        clear sky  \n",
       "2  overcast clouds  \n",
       "3       few clouds  \n",
       "4    broken clouds  "
      ]
     },
     "execution_count": 14,
     "metadata": {},
     "output_type": "execute_result"
    }
   ],
   "source": [
    "# Make a new DataFrame equal to the city data to drop all humidity outliers by index.\n",
    "# Passing \"inplace=False\" will make a copy of the city_data DataFrame, which we call \"clean_city_data\".\n",
    "clean_city_data_df = city_data_df.drop(cities_over_100)\n",
    "clean_city_data_df"
   ]
  },
  {
   "cell_type": "code",
   "execution_count": 40,
   "metadata": {},
   "outputs": [],
   "source": [
    "# Saving CSV file to output for vacay \n",
    "clean_city_data_df.to_csv('../output_data/cities.csv')"
   ]
  },
  {
   "cell_type": "markdown",
   "metadata": {},
   "source": [
    "## Plotting the Data\n",
    "* Use proper labeling of the plots using plot titles (including date of analysis) and axes labels.\n",
    "* Save the plotted figures as .pngs."
   ]
  },
  {
   "cell_type": "markdown",
   "metadata": {},
   "source": [
    "## Latitude vs. Temperature Plot"
   ]
  },
  {
   "cell_type": "code",
   "execution_count": 41,
   "metadata": {},
   "outputs": [
    {
     "data": {
      "image/png": "[encoded data removed]",
      "text/plain": [
       "<Figure size 432x288 with 1 Axes>"
      ]
     },
     "metadata": {
      "needs_background": "light"
     },
     "output_type": "display_data"
    }
   ],
   "source": [
    "# identify x, y variables\n",
    "x_values = clean_city_data_df['Lat']\n",
    "x_values\n",
    "\n",
    "y_values = clean_city_data_df['Temp. Max']\n",
    "y_values\n",
    "\n",
    "(slope, intercept, rvalue, pvalue, stderr) = linregress(x_values,y_values)\n",
    "regress_values = x_values * slope + intercept\n",
    "line_eq = \"y = \" + str(round(slope,2)) + \"x + \" + str(round(intercept,2))\n",
    "\n",
    "plt.scatter(x_values, y_values)\n",
    "\n",
    "# add regression line\n",
    "plt.plot(x_values,regress_values,\"r-\")\n",
    "\n",
    "# add line equation to my graph\n",
    "plt.annotate(line_eq,(30,30),fontsize=10,color=\"red\")\n",
    "\n",
    "plt.title('Latitude vs Temperature Plot')\n",
    "plt.xlabel('Latitude')\n",
    "plt.ylabel('Max Temperature')\n",
    "\n",
    "plt.savefig('../output_data/lat_vs_temp.png')\n",
    "\n",
    "plt.show()"
   ]
  },
  {
   "cell_type": "markdown",
   "metadata": {},
   "source": [
    "## Latitude vs. Humidity Plot"
   ]
  },
  {
   "cell_type": "code",
   "execution_count": 16,
   "metadata": {},
   "outputs": [
    {
     "data": {
      "image/png": "[encoded data removed]",
      "text/plain": [
       "<Figure size 432x288 with 1 Axes>"
      ]
     },
     "metadata": {
      "needs_background": "light"
     },
     "output_type": "display_data"
    }
   ],
   "source": [
    "# identify x, y variables\n",
    "x_values = clean_city_data_df['Lat']\n",
    "x_values\n",
    "\n",
    "y_values_humidity = clean_city_data_df['Humidity']\n",
    "y_values\n",
    "\n",
    "(slope, intercept, rvalue, pvalue, stderr) = linregress(x_values,y_values_humidity)\n",
    "regress_values = x_values * slope + intercept\n",
    "line_eq = \"y = \" + str(round(slope,2)) + \"x + \" + str(round(intercept,2))\n",
    "\n",
    "plt.scatter(x_values, y_values_humidity)\n",
    "\n",
    "# add regression line\n",
    "plt.plot(x_values,regress_values,\"r-\")\n",
    "\n",
    "# add line equation to my graph\n",
    "plt.annotate(line_eq,(20,74),fontsize=10,color=\"red\")\n",
    "\n",
    "plt.title('Latitude vs Humidity')\n",
    "plt.xlabel('Latitude')\n",
    "plt.ylabel('Humidity')\n",
    "plt.show()"
   ]
  },
  {
   "cell_type": "markdown",
   "metadata": {},
   "source": [
    "## Latitude vs. Cloudiness Plot"
   ]
  },
  {
   "cell_type": "code",
   "execution_count": 17,
   "metadata": {},
   "outputs": [
    {
     "data": {
      "image/png": "[encoded data removed]",
      "text/plain": [
       "<Figure size 432x288 with 1 Axes>"
      ]
     },
     "metadata": {
      "needs_background": "light"
     },
     "output_type": "display_data"
    }
   ],
   "source": [
    "# identify x, y variables\n",
    "x_values = clean_city_data_df['Lat']\n",
    "x_values\n",
    "\n",
    "y_values_humidity = clean_city_data_df['Humidity']\n",
    "y_values_humidity\n",
    "\n",
    "(slope, intercept, rvalue, pvalue, stderr) = linregress(x_values,y_values_humidity)\n",
    "regress_values = x_values * slope + intercept\n",
    "line_eq = \"y = \" + str(round(slope,2)) + \"x + \" + str(round(intercept,2))\n",
    "\n",
    "plt.scatter(x_values, y_values_humidity)\n",
    "\n",
    "# add regression line\n",
    "plt.plot(x_values,regress_values,\"r-\")\n",
    "\n",
    "# add line equation to my graph\n",
    "plt.annotate(line_eq,(20,74),fontsize=10,color=\"red\")\n",
    "\n",
    "plt.title('Latitude vs Humidity')\n",
    "plt.xlabel('Latitude')\n",
    "plt.ylabel('Humidity')\n",
    "plt.show()"
   ]
  },
  {
   "cell_type": "markdown",
   "metadata": {},
   "source": [
    "## Latitude vs. Wind Speed Plot"
   ]
  },
  {
   "cell_type": "code",
   "execution_count": 18,
   "metadata": {},
   "outputs": [
    {
     "data": {
      "image/png": "[encoded data removed]",
      "text/plain": [
       "<Figure size 432x288 with 1 Axes>"
      ]
     },
     "metadata": {
      "needs_background": "light"
     },
     "output_type": "display_data"
    }
   ],
   "source": [
    "# identify x, y variables\n",
    "x_values = clean_city_data_df['Lat']\n",
    "x_values\n",
    "\n",
    "y_values_windspeed = clean_city_data_df['Windspeed']\n",
    "y_values_windspeed\n",
    "\n",
    "(slope, intercept, rvalue, pvalue, stderr) = linregress(x_values,y_values_windspeed)\n",
    "regress_values = x_values * slope + intercept\n",
    "line_eq = \"y = \" + str(round(slope,2)) + \"x + \" + str(round(intercept,2))\n",
    "\n",
    "plt.scatter(x_values, y_values_windspeed)\n",
    "\n",
    "# add regression line\n",
    "plt.plot(x_values,regress_values,\"r-\")\n",
    "\n",
    "# add line equation to my graph\n",
    "plt.annotate(line_eq,(20,2.5),fontsize=10,color=\"red\")\n",
    "\n",
    "plt.title('Latitude vs Windspeed')\n",
    "plt.xlabel('Latitude')\n",
    "plt.ylabel('Windspeed')\n",
    "plt.show()"
   ]
  },
  {
   "cell_type": "markdown",
   "metadata": {},
   "source": [
    "## Linear Regression"
   ]
  },
  {
   "cell_type": "code",
   "execution_count": null,
   "metadata": {},
   "outputs": [],
   "source": []
  },
  {
   "cell_type": "markdown",
   "metadata": {},
   "source": [
    "### create northern and southern data frames\n"
   ]
  },
  {
   "cell_type": "code",
   "execution_count": 19,
   "metadata": {},
   "outputs": [
    {
     "data": {
      "text/html": [
       "<div>\n",
       "<style scoped>\n",
       "    .dataframe tbody tr th:only-of-type {\n",
       "        vertical-align: middle;\n",
       "    }\n",
       "\n",
       "    .dataframe tbody tr th {\n",
       "        vertical-align: top;\n",
       "    }\n",
       "\n",
       "    .dataframe thead th {\n",
       "        text-align: right;\n",
       "    }\n",
       "</style>\n",
       "<table border=\"1\" class=\"dataframe\">\n",
       "  <thead>\n",
       "    <tr style=\"text-align: right;\">\n",
       "      <th></th>\n",
       "      <th>City</th>\n",
       "      <th>Lat</th>\n",
       "      <th>Long</th>\n",
       "      <th>Temp. Max</th>\n",
       "      <th>Humidity</th>\n",
       "      <th>Cloudiness</th>\n",
       "      <th>Windspeed</th>\n",
       "      <th>description</th>\n",
       "    </tr>\n",
       "  </thead>\n",
       "  <tbody>\n",
       "    <tr>\n",
       "      <th>1</th>\n",
       "      <td>sarrebourg</td>\n",
       "      <td>48.7333</td>\n",
       "      <td>7.0500</td>\n",
       "      <td>48.00</td>\n",
       "      <td>81</td>\n",
       "      <td>0</td>\n",
       "      <td>4.61</td>\n",
       "      <td>clear sky</td>\n",
       "    </tr>\n",
       "    <tr>\n",
       "      <th>2</th>\n",
       "      <td>tuktoyaktuk</td>\n",
       "      <td>69.4541</td>\n",
       "      <td>-133.0374</td>\n",
       "      <td>24.84</td>\n",
       "      <td>80</td>\n",
       "      <td>100</td>\n",
       "      <td>3.27</td>\n",
       "      <td>overcast clouds</td>\n",
       "    </tr>\n",
       "    <tr>\n",
       "      <th>4</th>\n",
       "      <td>katsuura</td>\n",
       "      <td>35.1333</td>\n",
       "      <td>140.3000</td>\n",
       "      <td>70.00</td>\n",
       "      <td>78</td>\n",
       "      <td>62</td>\n",
       "      <td>15.99</td>\n",
       "      <td>broken clouds</td>\n",
       "    </tr>\n",
       "  </tbody>\n",
       "</table>\n",
       "</div>"
      ],
      "text/plain": [
       "          City      Lat      Long  Temp. Max  Humidity  Cloudiness  Windspeed  \\\n",
       "1   sarrebourg  48.7333    7.0500      48.00        81           0       4.61   \n",
       "2  tuktoyaktuk  69.4541 -133.0374      24.84        80         100       3.27   \n",
       "4     katsuura  35.1333  140.3000      70.00        78          62      15.99   \n",
       "\n",
       "       description  \n",
       "1        clear sky  \n",
       "2  overcast clouds  \n",
       "4    broken clouds  "
      ]
     },
     "execution_count": 19,
     "metadata": {},
     "output_type": "execute_result"
    }
   ],
   "source": [
    "northern_df = clean_city_data_df.loc[(clean_city_data_df['Lat'] >= 0)]\n",
    "northern_df"
   ]
  },
  {
   "cell_type": "code",
   "execution_count": 20,
   "metadata": {},
   "outputs": [
    {
     "data": {
      "text/html": [
       "<div>\n",
       "<style scoped>\n",
       "    .dataframe tbody tr th:only-of-type {\n",
       "        vertical-align: middle;\n",
       "    }\n",
       "\n",
       "    .dataframe tbody tr th {\n",
       "        vertical-align: top;\n",
       "    }\n",
       "\n",
       "    .dataframe thead th {\n",
       "        text-align: right;\n",
       "    }\n",
       "</style>\n",
       "<table border=\"1\" class=\"dataframe\">\n",
       "  <thead>\n",
       "    <tr style=\"text-align: right;\">\n",
       "      <th></th>\n",
       "      <th>City</th>\n",
       "      <th>Lat</th>\n",
       "      <th>Long</th>\n",
       "      <th>Temp. Max</th>\n",
       "      <th>Humidity</th>\n",
       "      <th>Cloudiness</th>\n",
       "      <th>Windspeed</th>\n",
       "      <th>description</th>\n",
       "    </tr>\n",
       "  </thead>\n",
       "  <tbody>\n",
       "    <tr>\n",
       "      <th>0</th>\n",
       "      <td>camana</td>\n",
       "      <td>-16.6228</td>\n",
       "      <td>-72.7111</td>\n",
       "      <td>65.79</td>\n",
       "      <td>87</td>\n",
       "      <td>58</td>\n",
       "      <td>6.02</td>\n",
       "      <td>broken clouds</td>\n",
       "    </tr>\n",
       "    <tr>\n",
       "      <th>3</th>\n",
       "      <td>grand gaube</td>\n",
       "      <td>-20.0064</td>\n",
       "      <td>57.6608</td>\n",
       "      <td>82.99</td>\n",
       "      <td>79</td>\n",
       "      <td>19</td>\n",
       "      <td>7.00</td>\n",
       "      <td>few clouds</td>\n",
       "    </tr>\n",
       "  </tbody>\n",
       "</table>\n",
       "</div>"
      ],
      "text/plain": [
       "          City      Lat     Long  Temp. Max  Humidity  Cloudiness  Windspeed  \\\n",
       "0       camana -16.6228 -72.7111      65.79        87          58       6.02   \n",
       "3  grand gaube -20.0064  57.6608      82.99        79          19       7.00   \n",
       "\n",
       "     description  \n",
       "0  broken clouds  \n",
       "3     few clouds  "
      ]
     },
     "execution_count": 20,
     "metadata": {},
     "output_type": "execute_result"
    }
   ],
   "source": [
    "southern_df = clean_city_data_df.loc[(clean_city_data_df['Lat'] < 0)]\n",
    "southern_df\n"
   ]
  },
  {
   "cell_type": "markdown",
   "metadata": {},
   "source": [
    "####  Northern Hemisphere - Max Temp vs. Latitude Linear Regression"
   ]
  },
  {
   "cell_type": "code",
   "execution_count": 21,
   "metadata": {},
   "outputs": [
    {
     "data": {
      "image/png": "[encoded data removed]",
      "text/plain": [
       "<Figure size 432x288 with 1 Axes>"
      ]
     },
     "metadata": {
      "needs_background": "light"
     },
     "output_type": "display_data"
    }
   ],
   "source": [
    "# identify x, y variables\n",
    "x_values_northern = northern_df['Lat']\n",
    "x_values_northern\n",
    "\n",
    "y_values_northern_temp = northern_df['Temp. Max']\n",
    "y_values_northern_temp\n",
    "\n",
    "(slope, intercept, rvalue, pvalue, stderr) = linregress(x_values_northern,y_values_northern_temp)\n",
    "regress_values = x_values_northern * slope + intercept\n",
    "line_eq = \"y = \" + str(round(slope,2)) + \"x + \" + str(round(intercept,2))\n",
    "\n",
    "plt.scatter(x_values_northern, y_values_northern_temp)\n",
    "\n",
    "# add regression line\n",
    "plt.plot(x_values_northern,regress_values,\"r-\")\n",
    "\n",
    "# add line equation to my graph\n",
    "plt.annotate(line_eq,(50,30),fontsize=10,color=\"red\")\n",
    "\n",
    "plt.title('Latitude vs Temperature Plot')\n",
    "plt.xlabel('Latitude')\n",
    "plt.ylabel('Max Temperature')\n",
    "plt.show()"
   ]
  },
  {
   "cell_type": "markdown",
   "metadata": {},
   "source": [
    "####  Southern Hemisphere - Max Temp vs. Latitude Linear Regression"
   ]
  },
  {
   "cell_type": "code",
   "execution_count": 32,
   "metadata": {},
   "outputs": [
    {
     "data": {
      "image/png": "[encoded data removed]",
      "text/plain": [
       "<Figure size 432x288 with 1 Axes>"
      ]
     },
     "metadata": {
      "needs_background": "light"
     },
     "output_type": "display_data"
    }
   ],
   "source": [
    "# identify x, y variables\n",
    "x_values_southern = southern_df['Lat']\n",
    "x_values_southern\n",
    "\n",
    "y_values_southern_temp = southern_df['Temp. Max']\n",
    "y_values_southern_temp\n",
    "\n",
    "(slope, intercept, rvalue, pvalue, stderr) = linregress(x_values_southern,y_values_southern_temp)\n",
    "regress_values = x_values_southern * slope + intercept\n",
    "line_eq = \"y = \" + str(round(slope,2)) + \"x + \" + str(round(intercept,2))\n",
    "\n",
    "plt.scatter(x_values_southern, y_values_southern_temp)\n",
    "\n",
    "# add regression line\n",
    "plt.plot(x_values_southern,regress_values,\"r-\")\n",
    "\n",
    "# add line equation to my graph\n",
    "plt.annotate(line_eq,(-19,75),fontsize=10,color=\"red\")\n",
    "\n",
    "plt.title('Latitude vs Temperature Plot Southern Hemisphere')\n",
    "plt.xlabel('Latitude')\n",
    "plt.ylabel('Max Temperature')\n",
    "plt.show()"
   ]
  },
  {
   "cell_type": "markdown",
   "metadata": {},
   "source": [
    "####  Northern Hemisphere - Humidity (%) vs. Latitude Linear Regression"
   ]
  },
  {
   "cell_type": "code",
   "execution_count": 34,
   "metadata": {},
   "outputs": [
    {
     "data": {
      "image/png": "[encoded data removed]",
      "text/plain": [
       "<Figure size 432x288 with 1 Axes>"
      ]
     },
     "metadata": {
      "needs_background": "light"
     },
     "output_type": "display_data"
    }
   ],
   "source": [
    "# identify x, y variables\n",
    "x_values_northern = northern_df['Lat']\n",
    "x_values_northern\n",
    "\n",
    "y_values_northern_humidity = northern_df['Humidity']\n",
    "y_values_northern_humidity\n",
    "\n",
    "(slope, intercept, rvalue, pvalue, stderr) = linregress(x_values_northern,y_values_northern_humidity)\n",
    "regress_values = x_values_northern * slope + intercept\n",
    "line_eq = \"y = \" + str(round(slope,2)) + \"x + \" + str(round(intercept,2))\n",
    "\n",
    "plt.scatter(x_values_northern, y_values_northern_humidity)\n",
    "\n",
    "# add regression line\n",
    "plt.plot(x_values_northern,regress_values,\"r-\")\n",
    "\n",
    "# add line equation to my graph\n",
    "plt.annotate(line_eq,(50,78),fontsize=10,color=\"red\")\n",
    "\n",
    "plt.title('Latitude vs Humidity Plot Northern Hemisphere')\n",
    "plt.xlabel('Latitude')\n",
    "plt.ylabel('Humidity')\n",
    "plt.show()"
   ]
  },
  {
   "cell_type": "markdown",
   "metadata": {},
   "source": [
    "####  Southern Hemisphere - Humidity (%) vs. Latitude Linear Regression"
   ]
  },
  {
   "cell_type": "code",
   "execution_count": 36,
   "metadata": {},
   "outputs": [
    {
     "data": {
      "text/plain": [
       "0    87\n",
       "3    79\n",
       "Name: Humidity, dtype: int64"
      ]
     },
     "execution_count": 36,
     "metadata": {},
     "output_type": "execute_result"
    }
   ],
   "source": [
    "# identify x, y variables\n",
    "x_values_southern = southern_df['Lat']\n",
    "x_values_southern\n",
    "\n",
    "y_values_southern_humidity = southern_df['Humidity']\n",
    "y_values_southern_humidity"
   ]
  },
  {
   "cell_type": "code",
   "execution_count": 38,
   "metadata": {},
   "outputs": [
    {
     "data": {
      "image/png": "[encoded data removed]",
      "text/plain": [
       "<Figure size 432x288 with 1 Axes>"
      ]
     },
     "metadata": {
      "needs_background": "light"
     },
     "output_type": "display_data"
    }
   ],
   "source": [
    "(slope, intercept, rvalue, pvalue, stderr) = linregress(x_values_southern,y_values_southern_humidity)\n",
    "regress_values = x_values_southern * slope + intercept\n",
    "line_eq = \"y = \" + str(round(slope,2)) + \"x + \" + str(round(intercept,2))\n",
    "\n",
    "plt.scatter(x_values_southern, y_values_southern_humidity)\n",
    "\n",
    "# add regression line\n",
    "plt.plot(x_values_southern,regress_values,\"r-\")\n",
    "\n",
    "# add line equation to my graph\n",
    "plt.annotate(line_eq,(-19,80),fontsize=10,color=\"red\")\n",
    "\n",
    "plt.title('Latitude vs Humidity Plot Southern Hemisphere')\n",
    "plt.xlabel('Latitude')\n",
    "plt.ylabel('Humidity')\n",
    "plt.show()"
   ]
  },
  {
   "cell_type": "code",
   "execution_count": null,
   "metadata": {},
   "outputs": [],
   "source": []
  },
  {
   "cell_type": "markdown",
   "metadata": {},
   "source": [
    "####  Northern Hemisphere - Cloudiness (%) vs. Latitude Linear Regression"
   ]
  },
  {
   "cell_type": "code",
   "execution_count": null,
   "metadata": {},
   "outputs": [],
   "source": []
  },
  {
   "cell_type": "markdown",
   "metadata": {},
   "source": [
    "####  Southern Hemisphere - Cloudiness (%) vs. Latitude Linear Regression"
   ]
  },
  {
   "cell_type": "code",
   "execution_count": null,
   "metadata": {},
   "outputs": [],
   "source": []
  },
  {
   "cell_type": "markdown",
   "metadata": {},
   "source": [
    "####  Northern Hemisphere - Wind Speed (mph) vs. Latitude Linear Regression"
   ]
  },
  {
   "cell_type": "code",
   "execution_count": null,
   "metadata": {},
   "outputs": [],
   "source": []
  },
  {
   "cell_type": "markdown",
   "metadata": {},
   "source": [
    "####  Southern Hemisphere - Wind Speed (mph) vs. Latitude Linear Regression"
   ]
  },
  {
   "cell_type": "code",
   "execution_count": null,
   "metadata": {},
   "outputs": [],
   "source": []
  },
  {
   "cell_type": "code",
   "execution_count": null,
   "metadata": {},
   "outputs": [],
   "source": []
  }
 ],
 "metadata": {
  "anaconda-cloud": {},
  "kernel_info": {
   "name": "python3"
  },
  "kernelspec": {
   "display_name": "Python [conda env:PythonData] *",
   "language": "python",
   "name": "conda-env-PythonData-py"
  },
  "language_info": {
   "codemirror_mode": {
    "name": "ipython",
    "version": 3
   },
   "file_extension": ".py",
   "mimetype": "text/x-python",
   "name": "python",
   "nbconvert_exporter": "python",
   "pygments_lexer": "ipython3",
   "version": "3.6.10"
  },
  "latex_envs": {
   "LaTeX_envs_menu_present": true,
   "autoclose": false,
   "autocomplete": true,
   "bibliofile": "biblio.bib",
   "cite_by": "apalike",
   "current_citInitial": 1,
   "eqLabelWithNumbers": true,
   "eqNumInitial": 1,
   "hotkeys": {
    "equation": "Ctrl-E",
    "itemize": "Ctrl-I"
   },
   "labels_anchors": false,
   "latex_user_defs": false,
   "report_style_numbering": false,
   "user_envs_cfg": false
  },
  "nteract": {
   "version": "0.12.3"
  }
 },
 "nbformat": 4,
 "nbformat_minor": 4
}
